{
 "cells": [
  {
   "cell_type": "code",
   "execution_count": 1,
   "metadata": {},
   "outputs": [
    {
     "name": "stderr",
     "output_type": "stream",
     "text": [
      "Using TensorFlow backend.\n"
     ]
    },
    {
     "name": "stdout",
     "output_type": "stream",
     "text": [
      "numpy: 1.13.3\n",
      "keras: 2.0.8\n",
      "sklearn: 0.19.1\n"
     ]
    },
    {
     "data": {
      "image/png": "[encoded data removed]",
      "text/plain": [
       "<matplotlib.figure.Figure at 0x2b444477cc0>"
      ]
     },
     "metadata": {},
     "output_type": "display_data"
    }
   ],
   "source": [
    "# https://machinelearningmastery.com/regression-tutorial-keras-deep-learning-library-python/\n",
    "import numpy as np\n",
    "import pandas as pd\n",
    "import keras\n",
    "from keras.models import Sequential\n",
    "from keras.layers import Dense\n",
    "from keras.wrappers.scikit_learn import KerasRegressor\n",
    "import sklearn\n",
    "from sklearn.model_selection import cross_val_score\n",
    "from sklearn.model_selection import KFold\n",
    "from sklearn.preprocessing import StandardScaler\n",
    "from sklearn.pipeline import Pipeline\n",
    "import matplotlib\n",
    "import matplotlib.pyplot as plt\n",
    "from data_prep import load_equity\n",
    "\n",
    "print('numpy: ' + np.__version__)\n",
    "print('keras: ' + keras.__version__)\n",
    "print('sklearn: ' + sklearn.__version__)\n",
    "\n",
    "matplotlib.style.use('ggplot')\n",
    "\n",
    "cat_df = load_equity('CAT')\n",
    "\n",
    "plt.figure(figsize=(16,3))\n",
    "cat_df['lreturn'].plot(style='k-')\n",
    "plt.show()"
   ]
  },
  {
   "cell_type": "code",
   "execution_count": 2,
   "metadata": {},
   "outputs": [
    {
     "name": "stdout",
     "output_type": "stream",
     "text": [
      "(14037, 12)\n",
      "14037\n"
     ]
    }
   ],
   "source": [
    "# set window size\n",
    "lookback_length = 12\n",
    "\n",
    "# fix random seed for reproducibility\n",
    "seed = 7\n",
    "\n",
    "def create_dataset(dataset, look_back=1):\n",
    "    dataX, dataY = [], []\n",
    "    for i in range(len(dataset)-look_back-1):\n",
    "        a = dataset[i:(i+look_back)]\n",
    "        dataX.append(a)\n",
    "        dataY.append(dataset[i + look_back])\n",
    "    return np.array(dataX), np.array(dataY)\n",
    "\n",
    "X, y = create_dataset(cat_df['lreturn'].values[1:], look_back=lookback_length)\n",
    "print(X.shape)\n",
    "\n",
    "# save last 20% as test set\n",
    "t = int(0.2 * len(X))\n",
    "X_train, X_test = X[:-t,:], X[-t:,:]\n",
    "y_train, y_test = y[:-t], y[-t:]\n",
    "print(len(X_train) + len(X_test))"
   ]
  },
  {
   "cell_type": "code",
   "execution_count": 12,
   "metadata": {
    "collapsed": true
   },
   "outputs": [],
   "source": [
    "def create_nn_regressor(inputs=8, layers=[8], standardize=False):\n",
    "    def create_nn():\n",
    "        model = Sequential()\n",
    "\n",
    "        model.add(Dense(layers[0], input_dim=inputs, activation='relu'))\n",
    "        for l in layers[1:]:\n",
    "            model.add(Dense(l, activation='relu'))\n",
    "        model.add(Dense(1))\n",
    "\n",
    "        model.compile(loss='mean_squared_error', optimizer='adam')\n",
    "        return model\n",
    "    \n",
    "    print(create_nn().summary())\n",
    "    \n",
    "    estimator = KerasRegressor(build_fn=create_nn, nb_epoch=100, batch_size=5, verbose=0)\n",
    "    \n",
    "    if standardize:\n",
    "        estimators = []\n",
    "        estimators.append(('standardize', StandardScaler()))\n",
    "        estimators.append(('mlp', estimator))\n",
    "        pipeline = Pipeline(estimators)\n",
    "        return pipeline\n",
    "\n",
    "    return estimator\n",
    "    \n",
    "def test_model(estimator):\n",
    "    kfold = KFold(n_splits=3, random_state=seed)\n",
    "    results = cross_val_score(estimator, X_train, y_train, cv=kfold, scoring='r2')\n",
    "    print(\"Results: %.4f (%.4f) R2\" % (results.mean(), results.std()))\n",
    "    "
   ]
  },
  {
   "cell_type": "code",
   "execution_count": 11,
   "metadata": {
    "scrolled": false
   },
   "outputs": [
    {
     "name": "stdout",
     "output_type": "stream",
     "text": [
      "_________________________________________________________________\n",
      "Layer (type)                 Output Shape              Param #   \n",
      "=================================================================\n",
      "dense_37 (Dense)             (None, 24)                312       \n",
      "_________________________________________________________________\n",
      "dense_38 (Dense)             (None, 24)                600       \n",
      "_________________________________________________________________\n",
      "dense_39 (Dense)             (None, 24)                600       \n",
      "_________________________________________________________________\n",
      "dense_40 (Dense)             (None, 1)                 25        \n",
      "=================================================================\n",
      "Total params: 1,537\n",
      "Trainable params: 1,537\n",
      "Non-trainable params: 0\n",
      "_________________________________________________________________\n",
      "None\n",
      "Results: -0.0060 (0.0026) R2\n"
     ]
    }
   ],
   "source": [
    "# model 1\n",
    "\n",
    "np.random.seed(seed)\n",
    "\n",
    "model1 = create_nn_regressor(lookback_length, [24, 24, 24])\n",
    "\n",
    "test_model(model1)"
   ]
  },
  {
   "cell_type": "code",
   "execution_count": 14,
   "metadata": {},
   "outputs": [
    {
     "name": "stdout",
     "output_type": "stream",
     "text": [
      "_________________________________________________________________\n",
      "Layer (type)                 Output Shape              Param #   \n",
      "=================================================================\n",
      "dense_53 (Dense)             (None, 24)                312       \n",
      "_________________________________________________________________\n",
      "dense_54 (Dense)             (None, 24)                600       \n",
      "_________________________________________________________________\n",
      "dense_55 (Dense)             (None, 24)                600       \n",
      "_________________________________________________________________\n",
      "dense_56 (Dense)             (None, 1)                 25        \n",
      "=================================================================\n",
      "Total params: 1,537\n",
      "Trainable params: 1,537\n",
      "Non-trainable params: 0\n",
      "_________________________________________________________________\n",
      "None\n",
      "Results: -0.0636 (0.0326) R2\n"
     ]
    }
   ],
   "source": [
    "# model 1 - standardized\n",
    "\n",
    "np.random.seed(seed)\n",
    "\n",
    "model1 = create_nn_regressor(lookback_length, [24, 24, 24], True)\n",
    "\n",
    "test_model(model1)"
   ]
  },
  {
   "cell_type": "code",
   "execution_count": null,
   "metadata": {
    "collapsed": true
   },
   "outputs": [],
   "source": []
  }
 ],
 "metadata": {
  "kernelspec": {
   "display_name": "Python 3",
   "language": "python",
   "name": "python3"
  },
  "language_info": {
   "codemirror_mode": {
    "name": "ipython",
    "version": 3
   },
   "file_extension": ".py",
   "mimetype": "text/x-python",
   "name": "python",
   "nbconvert_exporter": "python",
   "pygments_lexer": "ipython3",
   "version": "3.6.2"
  }
 },
 "nbformat": 4,
 "nbformat_minor": 2
}
